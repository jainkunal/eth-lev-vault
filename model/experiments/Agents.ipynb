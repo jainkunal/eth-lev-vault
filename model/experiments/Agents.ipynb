{
 "cells": [
  {
   "cell_type": "code",
   "execution_count": 53,
   "metadata": {},
   "outputs": [],
   "source": [
    "# %pip install giza-sdk\n",
    "# %pip install hvplot \"polars[numpy]\" \"polars[plot]\" matplotlib"
   ]
  },
  {
   "cell_type": "code",
   "execution_count": 69,
   "metadata": {},
   "outputs": [],
   "source": [
    "import pandas as pd\n",
    "\n",
    "df_block_time = pd.read_csv(\"ethereum_blocknumber_datetime.csv\")\n",
    "df_block_time = df_block_time.rename(columns={\"BLOCK_NUMBER\": \"block_number\", \"BLOCK_TIMESTAMP\": \"block_timestamp\"})\n",
    "df_block_time.set_index(\"block_number\", inplace=True)\n",
    "df_block_time[\"block_date\"] = pd.to_datetime(df_block_time[\"block_timestamp\"]).dt.date"
   ]
  },
  {
   "cell_type": "code",
   "execution_count": 79,
   "metadata": {},
   "outputs": [
    {
     "data": {
      "text/html": [
       "<div>\n",
       "<style scoped>\n",
       "    .dataframe tbody tr th:only-of-type {\n",
       "        vertical-align: middle;\n",
       "    }\n",
       "\n",
       "    .dataframe tbody tr th {\n",
       "        vertical-align: top;\n",
       "    }\n",
       "\n",
       "    .dataframe thead th {\n",
       "        text-align: right;\n",
       "    }\n",
       "</style>\n",
       "<table border=\"1\" class=\"dataframe\">\n",
       "  <thead>\n",
       "    <tr style=\"text-align: right;\">\n",
       "      <th></th>\n",
       "      <th>block_timestamp</th>\n",
       "      <th>block_date</th>\n",
       "    </tr>\n",
       "    <tr>\n",
       "      <th>block_number</th>\n",
       "      <th></th>\n",
       "      <th></th>\n",
       "    </tr>\n",
       "  </thead>\n",
       "  <tbody>\n",
       "    <tr>\n",
       "      <th>12376729</th>\n",
       "      <td>2021-05-05 21:42:11.000</td>\n",
       "      <td>2021-05-05</td>\n",
       "    </tr>\n",
       "    <tr>\n",
       "      <th>12377729</th>\n",
       "      <td>2021-05-06 01:21:24.000</td>\n",
       "      <td>2021-05-06</td>\n",
       "    </tr>\n",
       "    <tr>\n",
       "      <th>12378729</th>\n",
       "      <td>2021-05-06 04:50:36.000</td>\n",
       "      <td>2021-05-06</td>\n",
       "    </tr>\n",
       "    <tr>\n",
       "      <th>12379729</th>\n",
       "      <td>2021-05-06 08:44:49.000</td>\n",
       "      <td>2021-05-06</td>\n",
       "    </tr>\n",
       "    <tr>\n",
       "      <th>12380729</th>\n",
       "      <td>2021-05-06 12:27:21.000</td>\n",
       "      <td>2021-05-06</td>\n",
       "    </tr>\n",
       "  </tbody>\n",
       "</table>\n",
       "</div>"
      ],
      "text/plain": [
       "                      block_timestamp  block_date\n",
       "block_number                                     \n",
       "12376729      2021-05-05 21:42:11.000  2021-05-05\n",
       "12377729      2021-05-06 01:21:24.000  2021-05-06\n",
       "12378729      2021-05-06 04:50:36.000  2021-05-06\n",
       "12379729      2021-05-06 08:44:49.000  2021-05-06\n",
       "12380729      2021-05-06 12:27:21.000  2021-05-06"
      ]
     },
     "execution_count": 79,
     "metadata": {},
     "output_type": "execute_result"
    }
   ],
   "source": [
    "df_block_time.head()"
   ]
  },
  {
   "cell_type": "code",
   "execution_count": 83,
   "metadata": {},
   "outputs": [],
   "source": [
    "block_to_date = df_block_time.to_dict()[\"block_date\"]"
   ]
  },
  {
   "cell_type": "code",
   "execution_count": 36,
   "metadata": {},
   "outputs": [],
   "source": [
    "from giza.datasets import DatasetsLoader"
   ]
  },
  {
   "cell_type": "code",
   "execution_count": 37,
   "metadata": {},
   "outputs": [
    {
     "name": "stdout",
     "output_type": "stream",
     "text": [
      "Dataset read from cache.\n",
      "Loading dataset lens-posts from cache.\n"
     ]
    }
   ],
   "source": [
    "loader = DatasetsLoader()\n",
    "df = loader.load('lens-posts')"
   ]
  },
  {
   "cell_type": "code",
   "execution_count": 38,
   "metadata": {},
   "outputs": [
    {
     "data": {
      "text/plain": [
       "'ar://79ClTC1sHVS7EZuuolo37hEfewP065K_L548a6D-W6E'"
      ]
     },
     "execution_count": 38,
     "metadata": {},
     "output_type": "execute_result"
    }
   ],
   "source": [
    "df[0][\"contentURI\"][0]"
   ]
  },
  {
   "cell_type": "code",
   "execution_count": 84,
   "metadata": {},
   "outputs": [
    {
     "name": "stdout",
     "output_type": "stream",
     "text": [
      "Dataset read from cache.\n",
      "Loading dataset uniswapv3-ethereum-usdc-weth-500-liquidity-snapshots from cache.\n",
      "Dataset read from cache.\n",
      "Loading dataset uniswapv3-ethereum-usdc-weth-500-current-ticks from cache.\n",
      "Dataset read from cache.\n",
      "Loading dataset uniswapv3-ethereum-pools-info from cache.\n"
     ]
    }
   ],
   "source": [
    "liquidity_df = loader.load('uniswapv3-ethereum-usdc-weth-500-liquidity-snapshots').to_pandas()\n",
    "ticks_df = loader.load('uniswapv3-ethereum-usdc-weth-500-current-ticks')\n",
    "pools_info_df = loader.load('uniswapv3-ethereum-pools-info')"
   ]
  },
  {
   "cell_type": "code",
   "execution_count": 85,
   "metadata": {},
   "outputs": [
    {
     "name": "stdout",
     "output_type": "stream",
     "text": [
      "   block_number in_token out_token     price      amount  tick_id\n",
      "0      17917729     USDC      WETH  0.000543  320.109895   201130\n",
      "1      17917729     USDC      WETH  0.000543  668.116523   201120\n",
      "2      17917729     USDC      WETH  0.000542  683.064427   201110\n",
      "3      17917729     USDC      WETH  0.000542  894.834874   201100\n",
      "4      17917729     USDC      WETH  0.000541  582.447540   201090\n",
      "shape: (5, 2)\n",
      "┌──────────────┬──────────────┐\n",
      "│ current_tick ┆ block_number │\n",
      "│ ---          ┆ ---          │\n",
      "│ i64          ┆ i64          │\n",
      "╞══════════════╪══════════════╡\n",
      "│ 201040       ┆ 17774729     │\n",
      "│ 192936       ┆ 13458729     │\n",
      "│ 205565       ┆ 15114729     │\n",
      "│ 192623       ┆ 13520729     │\n",
      "│ 205426       ┆ 16306729     │\n",
      "└──────────────┴──────────────┘\n",
      "shape: (5, 11)\n",
      "┌─────────────┬────────────┬─────────┬────────┬───┬────────────┬────────────┬──────────┬───────────┐\n",
      "│ address     ┆ tick_spaci ┆ token0  ┆ token1 ┆ … ┆ token0_add ┆ token1_add ┆ chain    ┆ pool_type │\n",
      "│ ---         ┆ ng         ┆ ---     ┆ ---    ┆   ┆ ress       ┆ ress       ┆ ---      ┆ ---       │\n",
      "│ str         ┆ ---        ┆ str     ┆ str    ┆   ┆ ---        ┆ ---        ┆ str      ┆ str       │\n",
      "│             ┆ i64        ┆         ┆        ┆   ┆ str        ┆ str        ┆          ┆           │\n",
      "╞═════════════╪════════════╪═════════╪════════╪═══╪════════════╪════════════╪══════════╪═══════════╡\n",
      "│ 0xf3e996148 ┆ 200        ┆ PDT     ┆ PRIME  ┆ … ┆ 0x375aBB85 ┆ 0xb23d80f5 ┆ ethereum ┆ UniswapV3 │\n",
      "│ 839df04153c ┆            ┆         ┆        ┆   ┆ C329753b1B ┆ FefcDDaa21 ┆          ┆           │\n",
      "│ 70865cff12… ┆            ┆         ┆        ┆   ┆ a849a60143 ┆ 2212F02802 ┆          ┆           │\n",
      "│             ┆            ┆         ┆        ┆   ┆ 8A…        ┆ 1B…        ┆          ┆           │\n",
      "│ 0xfc46b56b5 ┆ 60         ┆ WETH    ┆ HALAL  ┆ … ┆ 0xC02aaA39 ┆ 0xf17E0fC7 ┆ ethereum ┆ UniswapV3 │\n",
      "│ 92295585911 ┆            ┆         ┆        ┆   ┆ b223FE8D0A ┆ D58088C0dc ┆          ┆           │\n",
      "│ 5337a06e5d… ┆            ┆         ┆        ┆   ┆ 0e5C4F27eA ┆ 2Eb548C940 ┆          ┆           │\n",
      "│             ┆            ┆         ┆        ┆   ┆ D9…        ┆ 12…        ┆          ┆           │\n",
      "│ 0x14f59c715 ┆ 200        ┆ send    ┆ WETH   ┆ … ┆ 0x3f14920c ┆ 0xC02aaA39 ┆ ethereum ┆ UniswapV3 │\n",
      "│ c205002c6e3 ┆            ┆         ┆        ┆   ┆ 99BEB920Af ┆ b223FE8D0A ┆          ┆           │\n",
      "│ f36766d302… ┆            ┆         ┆        ┆   ┆ a163031c4e ┆ 0e5C4F27eA ┆          ┆           │\n",
      "│             ┆            ┆         ┆        ┆   ┆ 47…        ┆ D9…        ┆          ┆           │\n",
      "│ 0x8d7e5ffcf ┆ 200        ┆ BABYRFD ┆ WETH   ┆ … ┆ 0x3C7a21Cb ┆ 0xC02aaA39 ┆ ethereum ┆ UniswapV3 │\n",
      "│ 43fef6a939b ┆            ┆         ┆        ┆   ┆ 00569CA807 ┆ b223FE8D0A ┆          ┆           │\n",
      "│ a855ce5611… ┆            ┆         ┆        ┆   ┆ cA4f1F4cf6 ┆ 0e5C4F27eA ┆          ┆           │\n",
      "│             ┆            ┆         ┆        ┆   ┆ c5…        ┆ D9…        ┆          ┆           │\n",
      "│ 0x3b7b9616f ┆ 60         ┆ USDC    ┆ OUR    ┆ … ┆ 0xA0b86991 ┆ 0xA2887163 ┆ ethereum ┆ UniswapV3 │\n",
      "│ 30a52cdedb9 ┆            ┆         ┆        ┆   ┆ c6218b36c1 ┆ 633612a052 ┆          ┆           │\n",
      "│ 73515e415e… ┆            ┆         ┆        ┆   ┆ d19D4a2e9E ┆ 6Dc51E666D ┆          ┆           │\n",
      "│             ┆            ┆         ┆        ┆   ┆ b0…        ┆ 7d…        ┆          ┆           │\n",
      "└─────────────┴────────────┴─────────┴────────┴───┴────────────┴────────────┴──────────┴───────────┘\n"
     ]
    }
   ],
   "source": [
    "\n",
    "print(liquidity_df.head())\n",
    "print(ticks_df.head())\n",
    "print(pools_info_df.head())"
   ]
  },
  {
   "cell_type": "code",
   "execution_count": 87,
   "metadata": {},
   "outputs": [],
   "source": [
    "liquidity_df[\"block_date\"] = liquidity_df[\"block_number\"].map(lambda x: block_to_date[x])"
   ]
  },
  {
   "cell_type": "code",
   "execution_count": 88,
   "metadata": {},
   "outputs": [
    {
     "data": {
      "text/html": [
       "<div>\n",
       "<style scoped>\n",
       "    .dataframe tbody tr th:only-of-type {\n",
       "        vertical-align: middle;\n",
       "    }\n",
       "\n",
       "    .dataframe tbody tr th {\n",
       "        vertical-align: top;\n",
       "    }\n",
       "\n",
       "    .dataframe thead th {\n",
       "        text-align: right;\n",
       "    }\n",
       "</style>\n",
       "<table border=\"1\" class=\"dataframe\">\n",
       "  <thead>\n",
       "    <tr style=\"text-align: right;\">\n",
       "      <th></th>\n",
       "      <th>block_number</th>\n",
       "      <th>in_token</th>\n",
       "      <th>out_token</th>\n",
       "      <th>price</th>\n",
       "      <th>amount</th>\n",
       "      <th>tick_id</th>\n",
       "      <th>block_date</th>\n",
       "    </tr>\n",
       "  </thead>\n",
       "  <tbody>\n",
       "    <tr>\n",
       "      <th>0</th>\n",
       "      <td>17917729</td>\n",
       "      <td>USDC</td>\n",
       "      <td>WETH</td>\n",
       "      <td>0.000543</td>\n",
       "      <td>320.109895</td>\n",
       "      <td>201130</td>\n",
       "      <td>2023-08-15</td>\n",
       "    </tr>\n",
       "    <tr>\n",
       "      <th>1</th>\n",
       "      <td>17917729</td>\n",
       "      <td>USDC</td>\n",
       "      <td>WETH</td>\n",
       "      <td>0.000543</td>\n",
       "      <td>668.116523</td>\n",
       "      <td>201120</td>\n",
       "      <td>2023-08-15</td>\n",
       "    </tr>\n",
       "    <tr>\n",
       "      <th>2</th>\n",
       "      <td>17917729</td>\n",
       "      <td>USDC</td>\n",
       "      <td>WETH</td>\n",
       "      <td>0.000542</td>\n",
       "      <td>683.064427</td>\n",
       "      <td>201110</td>\n",
       "      <td>2023-08-15</td>\n",
       "    </tr>\n",
       "    <tr>\n",
       "      <th>3</th>\n",
       "      <td>17917729</td>\n",
       "      <td>USDC</td>\n",
       "      <td>WETH</td>\n",
       "      <td>0.000542</td>\n",
       "      <td>894.834874</td>\n",
       "      <td>201100</td>\n",
       "      <td>2023-08-15</td>\n",
       "    </tr>\n",
       "    <tr>\n",
       "      <th>4</th>\n",
       "      <td>17917729</td>\n",
       "      <td>USDC</td>\n",
       "      <td>WETH</td>\n",
       "      <td>0.000541</td>\n",
       "      <td>582.447540</td>\n",
       "      <td>201090</td>\n",
       "      <td>2023-08-15</td>\n",
       "    </tr>\n",
       "  </tbody>\n",
       "</table>\n",
       "</div>"
      ],
      "text/plain": [
       "   block_number in_token out_token     price      amount  tick_id  block_date\n",
       "0      17917729     USDC      WETH  0.000543  320.109895   201130  2023-08-15\n",
       "1      17917729     USDC      WETH  0.000543  668.116523   201120  2023-08-15\n",
       "2      17917729     USDC      WETH  0.000542  683.064427   201110  2023-08-15\n",
       "3      17917729     USDC      WETH  0.000542  894.834874   201100  2023-08-15\n",
       "4      17917729     USDC      WETH  0.000541  582.447540   201090  2023-08-15"
      ]
     },
     "execution_count": 88,
     "metadata": {},
     "output_type": "execute_result"
    }
   ],
   "source": [
    "liquidity_df.head()"
   ]
  },
  {
   "cell_type": "code",
   "execution_count": 91,
   "metadata": {},
   "outputs": [
    {
     "data": {
      "text/html": [
       "<div>\n",
       "<style scoped>\n",
       "    .dataframe tbody tr th:only-of-type {\n",
       "        vertical-align: middle;\n",
       "    }\n",
       "\n",
       "    .dataframe tbody tr th {\n",
       "        vertical-align: top;\n",
       "    }\n",
       "\n",
       "    .dataframe thead th {\n",
       "        text-align: right;\n",
       "    }\n",
       "</style>\n",
       "<table border=\"1\" class=\"dataframe\">\n",
       "  <thead>\n",
       "    <tr style=\"text-align: right;\">\n",
       "      <th></th>\n",
       "      <th>block_date</th>\n",
       "      <th>min_tick</th>\n",
       "      <th>max_tick</th>\n",
       "    </tr>\n",
       "  </thead>\n",
       "  <tbody>\n",
       "    <tr>\n",
       "      <th>0</th>\n",
       "      <td>2021-05-05</td>\n",
       "      <td>193880</td>\n",
       "      <td>195870</td>\n",
       "    </tr>\n",
       "    <tr>\n",
       "      <th>1</th>\n",
       "      <td>2021-05-06</td>\n",
       "      <td>193530</td>\n",
       "      <td>195890</td>\n",
       "    </tr>\n",
       "    <tr>\n",
       "      <th>2</th>\n",
       "      <td>2021-05-07</td>\n",
       "      <td>193630</td>\n",
       "      <td>195940</td>\n",
       "    </tr>\n",
       "    <tr>\n",
       "      <th>3</th>\n",
       "      <td>2021-05-08</td>\n",
       "      <td>192690</td>\n",
       "      <td>195590</td>\n",
       "    </tr>\n",
       "    <tr>\n",
       "      <th>4</th>\n",
       "      <td>2021-05-09</td>\n",
       "      <td>192430</td>\n",
       "      <td>194820</td>\n",
       "    </tr>\n",
       "    <tr>\n",
       "      <th>...</th>\n",
       "      <td>...</td>\n",
       "      <td>...</td>\n",
       "      <td>...</td>\n",
       "    </tr>\n",
       "    <tr>\n",
       "      <th>852</th>\n",
       "      <td>2023-09-04</td>\n",
       "      <td>201310</td>\n",
       "      <td>203370</td>\n",
       "    </tr>\n",
       "    <tr>\n",
       "      <th>853</th>\n",
       "      <td>2023-09-05</td>\n",
       "      <td>201330</td>\n",
       "      <td>203450</td>\n",
       "    </tr>\n",
       "    <tr>\n",
       "      <th>854</th>\n",
       "      <td>2023-09-06</td>\n",
       "      <td>201320</td>\n",
       "      <td>203390</td>\n",
       "    </tr>\n",
       "    <tr>\n",
       "      <th>855</th>\n",
       "      <td>2023-09-07</td>\n",
       "      <td>201240</td>\n",
       "      <td>203380</td>\n",
       "    </tr>\n",
       "    <tr>\n",
       "      <th>856</th>\n",
       "      <td>2023-09-08</td>\n",
       "      <td>201250</td>\n",
       "      <td>203250</td>\n",
       "    </tr>\n",
       "  </tbody>\n",
       "</table>\n",
       "<p>857 rows × 3 columns</p>\n",
       "</div>"
      ],
      "text/plain": [
       "     block_date  min_tick  max_tick\n",
       "0    2021-05-05    193880    195870\n",
       "1    2021-05-06    193530    195890\n",
       "2    2021-05-07    193630    195940\n",
       "3    2021-05-08    192690    195590\n",
       "4    2021-05-09    192430    194820\n",
       "..          ...       ...       ...\n",
       "852  2023-09-04    201310    203370\n",
       "853  2023-09-05    201330    203450\n",
       "854  2023-09-06    201320    203390\n",
       "855  2023-09-07    201240    203380\n",
       "856  2023-09-08    201250    203250\n",
       "\n",
       "[857 rows x 3 columns]"
      ]
     },
     "execution_count": 91,
     "metadata": {},
     "output_type": "execute_result"
    }
   ],
   "source": [
    "liquidity_df.groupby(\"block_date\").agg(\n",
    "    min_tick=(\"tick_id\", \"min\"),\n",
    "    max_tick=(\"tick_id\", \"max\")\n",
    ").reset_index()"
   ]
  },
  {
   "cell_type": "code",
   "execution_count": 41,
   "metadata": {},
   "outputs": [],
   "source": [
    "import polars as pl\n",
    "df = liquidity_df[[\"block_number\", \"price\"]].group_by(by=\"block_number\").agg(pl.col(\"price\").max()).sort(by=\"block_number\")"
   ]
  },
  {
   "cell_type": "code",
   "execution_count": 42,
   "metadata": {},
   "outputs": [
    {
     "data": {
      "text/html": [
       "<div><style>\n",
       ".dataframe > thead > tr,\n",
       ".dataframe > tbody > tr {\n",
       "  text-align: right;\n",
       "  white-space: pre-wrap;\n",
       "}\n",
       "</style>\n",
       "<small>shape: (5_714, 2)</small><table border=\"1\" class=\"dataframe\"><thead><tr><th>block_number</th><th>price</th></tr><tr><td>i64</td><td>f64</td></tr></thead><tbody><tr><td>12376729</td><td>3443.33391</td></tr><tr><td>12377729</td><td>3466.827193</td></tr><tr><td>12378729</td><td>3496.419333</td></tr><tr><td>12379729</td><td>3438.173039</td></tr><tr><td>12380729</td><td>3491.528015</td></tr><tr><td>12381729</td><td>3567.404827</td></tr><tr><td>12382729</td><td>3447.123472</td></tr><tr><td>12383729</td><td>3504.820396</td></tr><tr><td>12384729</td><td>3421.025935</td></tr><tr><td>12385729</td><td>3441.61276</td></tr><tr><td>12386729</td><td>3465.094299</td></tr><tr><td>12387729</td><td>3491.877168</td></tr><tr><td>&hellip;</td><td>&hellip;</td></tr><tr><td>18078729</td><td>1623.651702</td></tr><tr><td>18079729</td><td>1631.953061</td></tr><tr><td>18080729</td><td>1632.279468</td></tr><tr><td>18081729</td><td>1633.095771</td></tr><tr><td>18082729</td><td>1637.019711</td></tr><tr><td>18083729</td><td>1632.60594</td></tr><tr><td>18084729</td><td>1624.951078</td></tr><tr><td>18085729</td><td>1630.648086</td></tr><tr><td>18086729</td><td>1634.729602</td></tr><tr><td>18087729</td><td>1650.497784</td></tr><tr><td>18088729</td><td>1646.047673</td></tr><tr><td>18089729</td><td>1647.529708</td></tr></tbody></table></div>"
      ],
      "text/plain": [
       "shape: (5_714, 2)\n",
       "┌──────────────┬─────────────┐\n",
       "│ block_number ┆ price       │\n",
       "│ ---          ┆ ---         │\n",
       "│ i64          ┆ f64         │\n",
       "╞══════════════╪═════════════╡\n",
       "│ 12376729     ┆ 3443.33391  │\n",
       "│ 12377729     ┆ 3466.827193 │\n",
       "│ 12378729     ┆ 3496.419333 │\n",
       "│ 12379729     ┆ 3438.173039 │\n",
       "│ …            ┆ …           │\n",
       "│ 18086729     ┆ 1634.729602 │\n",
       "│ 18087729     ┆ 1650.497784 │\n",
       "│ 18088729     ┆ 1646.047673 │\n",
       "│ 18089729     ┆ 1647.529708 │\n",
       "└──────────────┴─────────────┘"
      ]
     },
     "execution_count": 42,
     "metadata": {},
     "output_type": "execute_result"
    }
   ],
   "source": []
  },
  {
   "cell_type": "code",
   "execution_count": 47,
   "metadata": {},
   "outputs": [
    {
     "data": {
      "text/plain": [
       "<Axes: xlabel='block_number'>"
      ]
     },
     "execution_count": 47,
     "metadata": {},
     "output_type": "execute_result"
    },
    {
     "data": {
      "image/png": "[encoded data removed]",
      "text/plain": [
       "<Figure size 640x480 with 1 Axes>"
      ]
     },
     "metadata": {},
     "output_type": "display_data"
    }
   ],
   "source": [
    "df.to_pandas().plot(x=\"block_number\", y=\"price\")"
   ]
  },
  {
   "cell_type": "code",
   "execution_count": 48,
   "metadata": {},
   "outputs": [
    {
     "data": {
      "text/plain": [
       "(12376729, 18089729)"
      ]
     },
     "execution_count": 48,
     "metadata": {},
     "output_type": "execute_result"
    }
   ],
   "source": [
    "liquidity_df[\"block_number\"].min(), liquidity_df[\"block_number\"].max()"
   ]
  },
  {
   "cell_type": "code",
   "execution_count": 49,
   "metadata": {},
   "outputs": [
    {
     "data": {
      "text/plain": [
       "(1149788, 6)"
      ]
     },
     "execution_count": 49,
     "metadata": {},
     "output_type": "execute_result"
    }
   ],
   "source": [
    "liquidity_df.shape"
   ]
  },
  {
   "cell_type": "code",
   "execution_count": null,
   "metadata": {},
   "outputs": [],
   "source": []
  }
 ],
 "metadata": {
  "kernelspec": {
   "display_name": "gizagora",
   "language": "python",
   "name": "python3"
  },
  "language_info": {
   "codemirror_mode": {
    "name": "ipython",
    "version": 3
   },
   "file_extension": ".py",
   "mimetype": "text/x-python",
   "name": "python",
   "nbconvert_exporter": "python",
   "pygments_lexer": "ipython3",
   "version": "3.11.9"
  }
 },
 "nbformat": 4,
 "nbformat_minor": 2
}
